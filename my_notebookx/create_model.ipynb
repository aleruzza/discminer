{
 "cells": [
  {
   "cell_type": "code",
   "execution_count": 1,
   "metadata": {},
   "outputs": [],
   "source": [
    "\n",
    "from sys import path as syspath\n",
    "from os import path as ospath\n",
    "from astropy import units as u\n",
    "\n",
    "syspath.append('../')\n",
    "syspath.append('../_mining')"
   ]
  },
  {
   "cell_type": "code",
   "execution_count": 2,
   "metadata": {},
   "outputs": [
    {
     "ename": "SyntaxError",
     "evalue": "invalid syntax (disc2d.py, line 804)",
     "output_type": "error",
     "traceback": [
      "Traceback \u001b[0;36m(most recent call last)\u001b[0m:\n",
      "  File \u001b[1;32m\"/usr/lib/python3/dist-packages/IPython/core/interactiveshell.py\"\u001b[0m, line \u001b[1;32m3457\u001b[0m, in \u001b[1;35mrun_code\u001b[0m\n    exec(code_obj, self.user_global_ns, self.user_ns)\n",
      "\u001b[0;36m  File \u001b[0;32m\"/tmp/ipykernel_23229/958099557.py\"\u001b[0;36m, line \u001b[0;32m1\u001b[0;36m, in \u001b[0;35m<module>\u001b[0;36m\u001b[0m\n\u001b[0;31m    from discminer.disc2d import Model\u001b[0m\n",
      "\u001b[0;36m  File \u001b[0;32m\"/home/aleruzza/.local/lib/python3.10/site-packages/discminer/disc2d.py\"\u001b[0;36m, line \u001b[0;32m804\u001b[0m\n\u001b[0;31m    import .constants as sfc\u001b[0m\n\u001b[0m           ^\u001b[0m\n\u001b[0;31mSyntaxError\u001b[0m\u001b[0;31m:\u001b[0m invalid syntax\n"
     ]
    }
   ],
   "source": [
    "from discminer.disc2d import Model"
   ]
  },
  {
   "cell_type": "markdown",
   "metadata": {},
   "source": [
    "# Prepare datacube"
   ]
  },
  {
   "cell_type": "code",
   "execution_count": 3,
   "metadata": {},
   "outputs": [
    {
     "ename": "KeyboardInterrupt",
     "evalue": "",
     "output_type": "error",
     "traceback": [
      "\u001b[0;31m---------------------------------------------------------------------------\u001b[0m",
      "\u001b[0;31mKeyboardInterrupt\u001b[0m                         Traceback (most recent call last)",
      "\u001b[0;32m/tmp/ipykernel_53064/4091672233.py\u001b[0m in \u001b[0;36m<module>\u001b[0;34m\u001b[0m\n\u001b[1;32m      9\u001b[0m \u001b[0;31m#DATACUBE FOR PROTOTYPE\u001b[0m\u001b[0;34m\u001b[0m\u001b[0;34m\u001b[0m\u001b[0m\n\u001b[1;32m     10\u001b[0m \u001b[0;31m#**********************\u001b[0m\u001b[0;34m\u001b[0m\u001b[0;34m\u001b[0m\u001b[0m\n\u001b[0;32m---> 11\u001b[0;31m \u001b[0mdatacube\u001b[0m \u001b[0;34m=\u001b[0m \u001b[0mData\u001b[0m\u001b[0;34m(\u001b[0m\u001b[0mfile_data\u001b[0m\u001b[0;34m+\u001b[0m\u001b[0;34m'.fits'\u001b[0m\u001b[0;34m,\u001b[0m \u001b[0mdpc\u001b[0m\u001b[0;34m)\u001b[0m\u001b[0;34m\u001b[0m\u001b[0;34m\u001b[0m\u001b[0m\n\u001b[0m\u001b[1;32m     12\u001b[0m \u001b[0;34m\u001b[0m\u001b[0m\n\u001b[1;32m     13\u001b[0m \u001b[0mdatacube\u001b[0m\u001b[0;34m.\u001b[0m\u001b[0mclip\u001b[0m\u001b[0;34m(\u001b[0m\u001b[0mnpix\u001b[0m\u001b[0;34m=\u001b[0m\u001b[0;36m250\u001b[0m\u001b[0;34m,\u001b[0m  \u001b[0moverwrite\u001b[0m\u001b[0;34m=\u001b[0m\u001b[0;32mTrue\u001b[0m\u001b[0;34m)\u001b[0m \u001b[0;31m# can also clip along the velocity axis using e.g. channels={\"interval\": [15, 115]})\u001b[0m\u001b[0;34m\u001b[0m\u001b[0;34m\u001b[0m\u001b[0m\n",
      "\u001b[0;32m~/.local/lib/python3.10/site-packages/discminer/core.py\u001b[0m in \u001b[0;36m__init__\u001b[0;34m(self, filename, dpc, twodim, disc, mol, kind)\u001b[0m\n\u001b[1;32m     73\u001b[0m             \u001b[0;31m#Get data and beam info\u001b[0m\u001b[0;34m\u001b[0m\u001b[0;34m\u001b[0m\u001b[0m\n\u001b[1;32m     74\u001b[0m             \u001b[0;32mif\u001b[0m \u001b[0misinstance\u001b[0m\u001b[0;34m(\u001b[0m\u001b[0mcube_vel\u001b[0m\u001b[0;34m,\u001b[0m \u001b[0mSpectralCube\u001b[0m\u001b[0;34m)\u001b[0m\u001b[0;34m:\u001b[0m\u001b[0;34m\u001b[0m\u001b[0;34m\u001b[0m\u001b[0m\n\u001b[0;32m---> 75\u001b[0;31m                 \u001b[0mdata\u001b[0m \u001b[0;34m=\u001b[0m \u001b[0mcube_vel\u001b[0m\u001b[0;34m.\u001b[0m\u001b[0mhdu\u001b[0m\u001b[0;34m.\u001b[0m\u001b[0mdata\u001b[0m\u001b[0;34m.\u001b[0m\u001b[0msqueeze\u001b[0m\u001b[0;34m(\u001b[0m\u001b[0;34m)\u001b[0m\u001b[0;34m\u001b[0m\u001b[0;34m\u001b[0m\u001b[0m\n\u001b[0m\u001b[1;32m     76\u001b[0m                 \u001b[0;32mtry\u001b[0m\u001b[0;34m:\u001b[0m\u001b[0;34m\u001b[0m\u001b[0;34m\u001b[0m\u001b[0m\n\u001b[1;32m     77\u001b[0m                     \u001b[0mbeam\u001b[0m \u001b[0;34m=\u001b[0m \u001b[0mBeam\u001b[0m\u001b[0;34m.\u001b[0m\u001b[0mfrom_fits_header\u001b[0m\u001b[0;34m(\u001b[0m\u001b[0mheader\u001b[0m\u001b[0;34m)\u001b[0m  \u001b[0;31m# radio_beam object\u001b[0m\u001b[0;34m\u001b[0m\u001b[0;34m\u001b[0m\u001b[0m\n",
      "\u001b[0;32m~/.local/lib/python3.10/site-packages/spectral_cube/spectral_cube.py\u001b[0m in \u001b[0;36mhdu\u001b[0;34m(self)\u001b[0m\n\u001b[1;32m   2460\u001b[0m         \"\"\"\n\u001b[1;32m   2461\u001b[0m         \u001b[0mlog\u001b[0m\u001b[0;34m.\u001b[0m\u001b[0mdebug\u001b[0m\u001b[0;34m(\u001b[0m\u001b[0;34m\"Creating HDU\"\u001b[0m\u001b[0;34m)\u001b[0m\u001b[0;34m\u001b[0m\u001b[0;34m\u001b[0m\u001b[0m\n\u001b[0;32m-> 2462\u001b[0;31m         \u001b[0mhdu\u001b[0m \u001b[0;34m=\u001b[0m \u001b[0mPrimaryHDU\u001b[0m\u001b[0;34m(\u001b[0m\u001b[0mself\u001b[0m\u001b[0;34m.\u001b[0m\u001b[0mfilled_data\u001b[0m\u001b[0;34m[\u001b[0m\u001b[0;34m:\u001b[0m\u001b[0;34m]\u001b[0m\u001b[0;34m.\u001b[0m\u001b[0mvalue\u001b[0m\u001b[0;34m,\u001b[0m \u001b[0mheader\u001b[0m\u001b[0;34m=\u001b[0m\u001b[0mself\u001b[0m\u001b[0;34m.\u001b[0m\u001b[0mheader\u001b[0m\u001b[0;34m)\u001b[0m\u001b[0;34m\u001b[0m\u001b[0;34m\u001b[0m\u001b[0m\n\u001b[0m\u001b[1;32m   2463\u001b[0m         \u001b[0;32mreturn\u001b[0m \u001b[0mhdu\u001b[0m\u001b[0;34m\u001b[0m\u001b[0;34m\u001b[0m\u001b[0m\n\u001b[1;32m   2464\u001b[0m \u001b[0;34m\u001b[0m\u001b[0m\n",
      "\u001b[0;32m~/.local/lib/python3.10/site-packages/spectral_cube/cube_utils.py\u001b[0m in \u001b[0;36m__getitem__\u001b[0;34m(self, view)\u001b[0m\n\u001b[1;32m    229\u001b[0m \u001b[0;34m\u001b[0m\u001b[0m\n\u001b[1;32m    230\u001b[0m     \u001b[0;32mdef\u001b[0m \u001b[0m__getitem__\u001b[0m\u001b[0;34m(\u001b[0m\u001b[0mself\u001b[0m\u001b[0;34m,\u001b[0m \u001b[0mview\u001b[0m\u001b[0;34m)\u001b[0m\u001b[0;34m:\u001b[0m\u001b[0;34m\u001b[0m\u001b[0;34m\u001b[0m\u001b[0m\n\u001b[0;32m--> 231\u001b[0;31m         \u001b[0mresult\u001b[0m \u001b[0;34m=\u001b[0m \u001b[0mself\u001b[0m\u001b[0;34m.\u001b[0m\u001b[0m_func\u001b[0m\u001b[0;34m(\u001b[0m\u001b[0mself\u001b[0m\u001b[0;34m.\u001b[0m\u001b[0m_other\u001b[0m\u001b[0;34m,\u001b[0m \u001b[0mview\u001b[0m\u001b[0;34m)\u001b[0m\u001b[0;34m\u001b[0m\u001b[0;34m\u001b[0m\u001b[0m\n\u001b[0m\u001b[1;32m    232\u001b[0m         \u001b[0;32mif\u001b[0m \u001b[0misinstance\u001b[0m\u001b[0;34m(\u001b[0m\u001b[0mresult\u001b[0m\u001b[0;34m,\u001b[0m \u001b[0mda\u001b[0m\u001b[0;34m.\u001b[0m\u001b[0mArray\u001b[0m\u001b[0;34m)\u001b[0m\u001b[0;34m:\u001b[0m\u001b[0;34m\u001b[0m\u001b[0;34m\u001b[0m\u001b[0m\n\u001b[1;32m    233\u001b[0m             \u001b[0mresult\u001b[0m \u001b[0;34m=\u001b[0m \u001b[0mresult\u001b[0m\u001b[0;34m.\u001b[0m\u001b[0mcompute\u001b[0m\u001b[0;34m(\u001b[0m\u001b[0;34m)\u001b[0m\u001b[0;34m\u001b[0m\u001b[0;34m\u001b[0m\u001b[0m\n",
      "\u001b[0;32m~/.local/lib/python3.10/site-packages/spectral_cube/base_class.py\u001b[0m in \u001b[0;36mfilled_data\u001b[0;34m(self, view)\u001b[0m\n\u001b[1;32m    419\u001b[0m             \u001b[0mThe\u001b[0m \u001b[0mmasked\u001b[0m \u001b[0mdata\u001b[0m\u001b[0;34m.\u001b[0m\u001b[0;34m\u001b[0m\u001b[0;34m\u001b[0m\u001b[0m\n\u001b[1;32m    420\u001b[0m         \"\"\"\n\u001b[0;32m--> 421\u001b[0;31m         return u.Quantity(self._get_filled_data(view, fill=self._fill_value),\n\u001b[0m\u001b[1;32m    422\u001b[0m                           self.unit, copy=False)\n\u001b[1;32m    423\u001b[0m \u001b[0;34m\u001b[0m\u001b[0m\n",
      "\u001b[0;32m~/.local/lib/python3.10/site-packages/spectral_cube/base_class.py\u001b[0m in \u001b[0;36m_get_filled_data\u001b[0;34m(self, view, fill, check_endian, use_memmap)\u001b[0m\n\u001b[1;32m    403\u001b[0m             \u001b[0muse_memmap\u001b[0m \u001b[0;34m=\u001b[0m \u001b[0mself\u001b[0m\u001b[0;34m.\u001b[0m\u001b[0m_is_huge\u001b[0m\u001b[0;34m\u001b[0m\u001b[0;34m\u001b[0m\u001b[0m\n\u001b[1;32m    404\u001b[0m \u001b[0;34m\u001b[0m\u001b[0m\n\u001b[0;32m--> 405\u001b[0;31m         return self._mask._filled(data=data, wcs=self._wcs, fill=fill,\n\u001b[0m\u001b[1;32m    406\u001b[0m                                   \u001b[0mview\u001b[0m\u001b[0;34m=\u001b[0m\u001b[0mview\u001b[0m\u001b[0;34m,\u001b[0m \u001b[0mwcs_tolerance\u001b[0m\u001b[0;34m=\u001b[0m\u001b[0mself\u001b[0m\u001b[0;34m.\u001b[0m\u001b[0m_wcs_tolerance\u001b[0m\u001b[0;34m,\u001b[0m\u001b[0;34m\u001b[0m\u001b[0;34m\u001b[0m\u001b[0m\n\u001b[1;32m    407\u001b[0m                                   \u001b[0muse_memmap\u001b[0m\u001b[0;34m=\u001b[0m\u001b[0muse_memmap\u001b[0m\u001b[0;34m\u001b[0m\u001b[0;34m\u001b[0m\u001b[0m\n",
      "\u001b[0;32m~/.local/lib/python3.10/site-packages/spectral_cube/masks.py\u001b[0m in \u001b[0;36m_filled\u001b[0;34m(self, data, wcs, fill, view, use_memmap, **kwargs)\u001b[0m\n\u001b[1;32m    236\u001b[0m             \u001b[0msliced_data\u001b[0m \u001b[0;34m=\u001b[0m \u001b[0mdata\u001b[0m\u001b[0;34m[\u001b[0m\u001b[0mview\u001b[0m\u001b[0;34m]\u001b[0m\u001b[0;34m.\u001b[0m\u001b[0mastype\u001b[0m\u001b[0;34m(\u001b[0m\u001b[0mdt\u001b[0m\u001b[0;34m)\u001b[0m\u001b[0;34m\u001b[0m\u001b[0;34m\u001b[0m\u001b[0m\n\u001b[1;32m    237\u001b[0m \u001b[0;34m\u001b[0m\u001b[0m\n\u001b[0;32m--> 238\u001b[0;31m         \u001b[0mex\u001b[0m \u001b[0;34m=\u001b[0m \u001b[0mself\u001b[0m\u001b[0;34m.\u001b[0m\u001b[0mexclude\u001b[0m\u001b[0;34m(\u001b[0m\u001b[0mdata\u001b[0m\u001b[0;34m=\u001b[0m\u001b[0mdata\u001b[0m\u001b[0;34m,\u001b[0m \u001b[0mwcs\u001b[0m\u001b[0;34m=\u001b[0m\u001b[0mwcs\u001b[0m\u001b[0;34m,\u001b[0m \u001b[0mview\u001b[0m\u001b[0;34m=\u001b[0m\u001b[0mview\u001b[0m\u001b[0;34m,\u001b[0m \u001b[0;34m**\u001b[0m\u001b[0mkwargs\u001b[0m\u001b[0;34m)\u001b[0m\u001b[0;34m\u001b[0m\u001b[0;34m\u001b[0m\u001b[0m\n\u001b[0m\u001b[1;32m    239\u001b[0m \u001b[0;34m\u001b[0m\u001b[0m\n\u001b[1;32m    240\u001b[0m         \u001b[0;32mreturn\u001b[0m \u001b[0mnp\u001b[0m\u001b[0;34m.\u001b[0m\u001b[0mma\u001b[0m\u001b[0;34m.\u001b[0m\u001b[0mmasked_array\u001b[0m\u001b[0;34m(\u001b[0m\u001b[0msliced_data\u001b[0m\u001b[0;34m,\u001b[0m \u001b[0mmask\u001b[0m\u001b[0;34m=\u001b[0m\u001b[0mex\u001b[0m\u001b[0;34m)\u001b[0m\u001b[0;34m.\u001b[0m\u001b[0mfilled\u001b[0m\u001b[0;34m(\u001b[0m\u001b[0mfill\u001b[0m\u001b[0;34m)\u001b[0m\u001b[0;34m\u001b[0m\u001b[0;34m\u001b[0m\u001b[0m\n",
      "\u001b[0;32m~/.local/lib/python3.10/site-packages/spectral_cube/masks.py\u001b[0m in \u001b[0;36mexclude\u001b[0;34m(self, data, wcs, view, **kwargs)\u001b[0m\n\u001b[1;32m    147\u001b[0m         \u001b[0;32mpass\u001b[0m\u001b[0;34m\u001b[0m\u001b[0;34m\u001b[0m\u001b[0m\n\u001b[1;32m    148\u001b[0m \u001b[0;34m\u001b[0m\u001b[0m\n\u001b[0;32m--> 149\u001b[0;31m     \u001b[0;32mdef\u001b[0m \u001b[0mexclude\u001b[0m\u001b[0;34m(\u001b[0m\u001b[0mself\u001b[0m\u001b[0;34m,\u001b[0m \u001b[0mdata\u001b[0m\u001b[0;34m=\u001b[0m\u001b[0;32mNone\u001b[0m\u001b[0;34m,\u001b[0m \u001b[0mwcs\u001b[0m\u001b[0;34m=\u001b[0m\u001b[0;32mNone\u001b[0m\u001b[0;34m,\u001b[0m \u001b[0mview\u001b[0m\u001b[0;34m=\u001b[0m\u001b[0;34m(\u001b[0m\u001b[0;34m)\u001b[0m\u001b[0;34m,\u001b[0m \u001b[0;34m**\u001b[0m\u001b[0mkwargs\u001b[0m\u001b[0;34m)\u001b[0m\u001b[0;34m:\u001b[0m\u001b[0;34m\u001b[0m\u001b[0;34m\u001b[0m\u001b[0m\n\u001b[0m\u001b[1;32m    150\u001b[0m         \"\"\"\n\u001b[1;32m    151\u001b[0m         \u001b[0mReturn\u001b[0m \u001b[0ma\u001b[0m \u001b[0mboolean\u001b[0m \u001b[0marray\u001b[0m \u001b[0mindicating\u001b[0m \u001b[0mwhich\u001b[0m \u001b[0mvalues\u001b[0m \u001b[0mshould\u001b[0m \u001b[0mbe\u001b[0m \u001b[0mexcluded\u001b[0m\u001b[0;34m.\u001b[0m\u001b[0;34m\u001b[0m\u001b[0;34m\u001b[0m\u001b[0m\n",
      "\u001b[0;31mKeyboardInterrupt\u001b[0m: "
     ]
    }
   ],
   "source": [
    "#this is for preparing the data\n",
    "from discminer.core import Data\n",
    "import astropy.units as u\n",
    "\n",
    "file_data = '../template/MWC_480_CO_220GHz.robust_0.5.JvMcorr.image.pbcor'\n",
    "dpc = 162.0*u.pc\n",
    "\n",
    "#**********************\n",
    "#DATACUBE FOR PROTOTYPE\n",
    "#**********************\n",
    "datacube = Data(file_data+'.fits', dpc)\n",
    "\n",
    "datacube.clip(npix=250,  overwrite=True) # can also clip along the velocity axis using e.g. channels={\"interval\": [15, 115]})\n",
    "datacube.downsample(2, tag='_2pix') # Downsample cube and add tag to filename\n",
    "\n",
    "#**********************\n",
    "#DATACUBE FOR MCMC FIT\n",
    "#**********************\n",
    "datacube = Data(file_data+'_clipped.fits', dpc)\n",
    "datacube.downsample(10, tag='_10pix')\n"
   ]
  },
  {
   "cell_type": "markdown",
   "metadata": {},
   "source": [
    "# Pipeline"
   ]
  },
  {
   "cell_type": "markdown",
   "metadata": {},
   "source": [
    "* fit the geometrical properties in a standard way (see example/fit/fit_mc_mwc480.py)\n",
    "* the fit generates a log file\n",
    "* run `discminer parfile` that generates a parfile based on the mcmc fit log"
   ]
  },
  {
   "cell_type": "markdown",
   "metadata": {},
   "source": [
    "# The following code should open the parfile and load the fitted model"
   ]
  },
  {
   "cell_type": "code",
   "execution_count": 3,
   "metadata": {},
   "outputs": [],
   "source": [
    "#loading the datacube under exam\n",
    "from discminer.core import Data\n",
    "from discminer import units as ucf\n",
    "file_data = '../template/MWC_480_CO_220GHz.robust_0.5.JvMcorr.image.pbcor_clipped_downsamp_10pix.fits'\n",
    "dpc = 162.0*u.pc\n",
    "datacube = Data(file_data, dpc)"
   ]
  },
  {
   "cell_type": "code",
   "execution_count": 4,
   "metadata": {},
   "outputs": [],
   "source": [
    "import json\n",
    "with open('parfile.json') as json_file:\n",
    "    pars = json.load(json_file)\n",
    "\n",
    "meta = pars['metadata']\n",
    "best = pars['best_fit']\n",
    "custom = pars['custom']\n",
    "\n",
    "chan_step = custom['chan_step']\n",
    "nchans = custom['nchans']\n",
    "\n",
    "#****************\n",
    "#SOME DEFINITIONS\n",
    "#****************ln_like\n",
    "file_data = meta['file_data']\n",
    "tag = meta['tag']\n",
    "au_to_m = u.au.to('m')\n",
    "\n",
    "dpc = meta['dpc']*u.pc\n",
    "\n"
   ]
  },
  {
   "cell_type": "code",
   "execution_count": 5,
   "metadata": {},
   "outputs": [
    {
     "name": "stdout",
     "output_type": "stream",
     "text": [
      "     _  _                        _                    \n",
      "  __| |(_) ___   ___  _ __ ___  (_) _ __    ___  _ __ \n",
      " / _` || |/ __| / __|| '_ ` _ \\ | || '_ \\  / _ \\| '__|\n",
      "| (_| || |\\__ \\| (__ | | | | | || || | | ||  __/| |   \n",
      " \\__,_||_||___/ \\___||_| |_| |_||_||_| |_| \\___||_|   \n",
      "                                                      \n",
      "\n",
      "*====================================================================================================*\n",
      "Computing grid...\n",
      "Grid maximum extent: 120689578165943.16\n",
      "Grid step (cell size): 969394202136.0896\n",
      "*====================================================================================================*\n",
      "*====================================================================================================*\n",
      "Computing grid...\n",
      "Grid maximum extent: 128444731783031.88\n",
      "Grid step (cell size): 969394202136.0896\n",
      "*====================================================================================================*\n",
      "Setting beam_info var to Beam: BMAJ=0.165413767099392 arcsec BMIN=0.12207780778406399 arcsec BPA=6.09619140625 deg\n",
      "Setting beam_kernel var to <astropy.convolution.kernels.Gaussian2DKernel object at 0x7f17a64fd990>\n",
      "Available categories for prototyping: dict_keys(['velocity', 'orientation', 'intensity', 'linewidth', 'lineslope', 'height_upper', 'height_lower'])\n",
      "Setting velocity function to <function Velocity.keplerian_vertical at 0x7f177cd3be20>\n",
      "Setting line profile function to <function Intensity.line_profile_bell at 0x7f177cd592d0>\n",
      "Setting composite upper+lower line profile function to <function Intensity.line_uplow_mask at 0x7f177cd59480>\n",
      "Setting intensity function to <function intensity_powerlaw_rout at 0x7f177cd65ab0>\n",
      "Setting upper surface height function to <function z_upper_exp_tapered at 0x7f177cd65750>\n",
      "Setting lower surface height function to <function z_lower_exp_tapered at 0x7f177cd657e0>\n"
     ]
    }
   ],
   "source": [
    "from utils import get_noise_mask, init_data_and_model\n",
    "import numpy as np\n",
    "#*******************\n",
    "#LOAD DATA AND MODEL\n",
    "#*******************\n",
    "datacube, model = init_data_and_model(Rmin=0, Rmax=1.2)\n",
    "vchannels = datacube.vchannels\n",
    "pix_downsamp = model.grid['step']*meta['downsamp_fit']/au_to_m\n",
    "\n",
    "#Useful definitions for plots\n",
    "xmax = model.skygrid['xmax'] \n",
    "xlim = 1.0*xmax/au_to_m\n",
    "extent= np.array([-xmax, xmax, -xmax, xmax])/au_to_m\n",
    "  \n"
   ]
  },
  {
   "cell_type": "markdown",
   "metadata": {},
   "source": [
    "# Run standard model"
   ]
  },
  {
   "cell_type": "markdown",
   "metadata": {},
   "source": []
  },
  {
   "cell_type": "code",
   "execution_count": 6,
   "metadata": {},
   "outputs": [
    {
     "name": "stdout",
     "output_type": "stream",
     "text": [
      "*====================================================================================================*\n",
      "Running prototype model with the following parameters:\n",
      "\n",
      "{'height_lower': {'Rb': 803.90594,\n",
      "                  'p': 1.107099,\n",
      "                  'q': 2.859784,\n",
      "                  'z0': 14.227028},\n",
      " 'height_upper': {'Rb': 108.607483,\n",
      "                  'p': 1.65208,\n",
      "                  'q': 0.550336,\n",
      "                  'z0': 52.680114},\n",
      " 'intensity': {'I0': 0.10439999999999999,\n",
      "               'Rout': 717.971915,\n",
      "               'p': -2.659016,\n",
      "               'q': 2.156254},\n",
      " 'lineslope': {'Ls': 1.676401, 'p': 0.314061},\n",
      " 'linewidth': {'L0': 0.316459, 'p': -0.288951, 'q': -0.355926},\n",
      " 'orientation': {'PA': 1.010296,\n",
      "                 'incl': -0.672928,\n",
      "                 'xc': -0.91338,\n",
      "                 'yc': -1.826827},\n",
      " 'velocity': {'Mstar': 1.973085, 'vel_sign': -1.0, 'vsys': 5.099463}}\n",
      "\n",
      "*====================================================================================================*\n",
      "*====================================================================================================*\n",
      "Computing disc upper and lower surface coordinates, projected on the sky plane...\n",
      "Using height and orientation parameters from prototype model:\n",
      "\n",
      "{'height_lower': {'Rb': 803.90594,\n",
      "                  'p': 1.107099,\n",
      "                  'q': 2.859784,\n",
      "                  'z0': 14.227028},\n",
      " 'height_upper': {'Rb': 108.607483,\n",
      "                  'p': 1.65208,\n",
      "                  'q': 0.550336,\n",
      "                  'z0': 52.680114},\n",
      " 'orientation': {'PA': 1.010296,\n",
      "                 'incl': -0.672928,\n",
      "                 'xc': -0.91338,\n",
      "                 'yc': -1.826827}}\n",
      "Saving projected R,phi,z disc coordinates for upper emission surface into .npy binaries...\n",
      "Saving projected R,phi,z disc coordinates for lower emission surface into .npy binaries...\n",
      "*====================================================================================================*\n",
      "*====================================================================================================*\n",
      "Running prototype model with the following parameters:\n",
      "\n",
      "{'height_lower': {'Rb': 803.90594,\n",
      "                  'p': 1.107099,\n",
      "                  'q': 2.859784,\n",
      "                  'z0': 14.227028},\n",
      " 'height_upper': {'Rb': 108.607483,\n",
      "                  'p': 1.65208,\n",
      "                  'q': 0.550336,\n",
      "                  'z0': 52.680114},\n",
      " 'intensity': {'I0': 0.10439999999999999,\n",
      "               'Rout': 717.971915,\n",
      "               'p': -2.659016,\n",
      "               'q': 2.156254},\n",
      " 'lineslope': {'Ls': 1.676401, 'p': 0.314061},\n",
      " 'linewidth': {'L0': 0.316459, 'p': -0.288951, 'q': -0.355926},\n",
      " 'orientation': {'PA': 1.010296,\n",
      "                 'incl': -0.672928,\n",
      "                 'xc': -0.91338,\n",
      "                 'yc': -1.826827},\n",
      " 'velocity': {'Mstar': 1.973085, 'vel_sign': -1.0, 'vsys': 5.099463}}\n",
      "\n",
      "*====================================================================================================*\n",
      "*====================================================================================================*\n",
      "Computing disc upper and lower surface coordinates, projected on the sky plane...\n",
      "Using height and orientation parameters from prototype model:\n",
      "\n",
      "{'height_lower': {'Rb': 803.90594,\n",
      "                  'p': 1.107099,\n",
      "                  'q': 2.859784,\n",
      "                  'z0': 14.227028},\n",
      " 'height_upper': {'Rb': 108.607483,\n",
      "                  'p': 1.65208,\n",
      "                  'q': 0.550336,\n",
      "                  'z0': 52.680114},\n",
      " 'orientation': {'PA': 1.010296,\n",
      "                 'incl': -0.672928,\n",
      "                 'xc': -0.91338,\n",
      "                 'yc': -1.826827}}\n",
      "Saving projected R,phi,z disc coordinates for upper emission surface into .npy binaries...\n",
      "Saving projected R,phi,z disc coordinates for lower emission surface into .npy binaries...\n",
      "*====================================================================================================*\n",
      "*====================================================================================================*\n",
      "Running prototype model with the following parameters:\n",
      "\n",
      "{'height_lower': {'Rb': 803.90594,\n",
      "                  'p': 1.107099,\n",
      "                  'q': 2.859784,\n",
      "                  'z0': 14.227028},\n",
      " 'height_upper': {'Rb': 108.607483,\n",
      "                  'p': 1.65208,\n",
      "                  'q': 0.550336,\n",
      "                  'z0': 52.680114},\n",
      " 'intensity': {'I0': 0.10439999999999999,\n",
      "               'Rout': 717.971915,\n",
      "               'p': -2.659016,\n",
      "               'q': 2.156254},\n",
      " 'lineslope': {'Ls': 1.676401, 'p': 0.314061},\n",
      " 'linewidth': {'L0': 0.316459, 'p': -0.288951, 'q': -0.355926},\n",
      " 'orientation': {'PA': 1.010296,\n",
      "                 'incl': -0.672928,\n",
      "                 'xc': -0.91338,\n",
      "                 'yc': -1.826827},\n",
      " 'velocity': {'Mstar': 1.973085, 'vel_sign': -1.0, 'vsys': 5.099463}}\n",
      "\n",
      "*====================================================================================================*\n",
      "*====================================================================================================*\n",
      "Computing disc upper and lower surface coordinates, projected on the sky plane...\n",
      "Using height and orientation parameters from prototype model:\n",
      "\n",
      "{'height_lower': {'Rb': 803.90594,\n",
      "                  'p': 1.107099,\n",
      "                  'q': 2.859784,\n",
      "                  'z0': 14.227028},\n",
      " 'height_upper': {'Rb': 108.607483,\n",
      "                  'p': 1.65208,\n",
      "                  'q': 0.550336,\n",
      "                  'z0': 52.680114},\n",
      " 'orientation': {'PA': 1.010296,\n",
      "                 'incl': -0.672928,\n",
      "                 'xc': -0.91338,\n",
      "                 'yc': -1.826827}}\n",
      "Saving projected R,phi,z disc coordinates for upper emission surface into .npy binaries...\n",
      "Saving projected R,phi,z disc coordinates for lower emission surface into .npy binaries...\n",
      "*====================================================================================================*\n",
      "*====================================================================================================*\n",
      "Running prototype model with the following parameters:\n",
      "\n",
      "{'height_lower': {'Rb': 803.90594,\n",
      "                  'p': 1.107099,\n",
      "                  'q': 2.859784,\n",
      "                  'z0': 14.227028},\n",
      " 'height_upper': {'Rb': 108.607483,\n",
      "                  'p': 1.65208,\n",
      "                  'q': 0.550336,\n",
      "                  'z0': 52.680114},\n",
      " 'intensity': {'I0': 0.10439999999999999,\n",
      "               'Rout': 717.971915,\n",
      "               'p': -2.659016,\n",
      "               'q': 2.156254},\n",
      " 'lineslope': {'Ls': 1.676401, 'p': 0.314061},\n",
      " 'linewidth': {'L0': 0.316459, 'p': -0.288951, 'q': -0.355926},\n",
      " 'orientation': {'PA': 1.010296,\n",
      "                 'incl': -0.672928,\n",
      "                 'xc': -0.91338,\n",
      "                 'yc': -1.826827},\n",
      " 'velocity': {'Mstar': 1.973085, 'vel_sign': -1.0, 'vsys': 5.099463}}\n",
      "\n",
      "*====================================================================================================*\n",
      "*====================================================================================================*\n",
      "Computing disc upper and lower surface coordinates, projected on the sky plane...\n",
      "Using height and orientation parameters from prototype model:\n",
      "\n",
      "{'height_lower': {'Rb': 803.90594,\n",
      "                  'p': 1.107099,\n",
      "                  'q': 2.859784,\n",
      "                  'z0': 14.227028},\n",
      " 'height_upper': {'Rb': 108.607483,\n",
      "                  'p': 1.65208,\n",
      "                  'q': 0.550336,\n",
      "                  'z0': 52.680114},\n",
      " 'orientation': {'PA': 1.010296,\n",
      "                 'incl': -0.672928,\n",
      "                 'xc': -0.91338,\n",
      "                 'yc': -1.826827}}\n",
      "Saving projected R,phi,z disc coordinates for upper emission surface into .npy binaries...\n",
      "Saving projected R,phi,z disc coordinates for lower emission surface into .npy binaries...\n",
      "*====================================================================================================*\n",
      "*====================================================================================================*\n",
      "Running prototype model with the following parameters:\n",
      "\n",
      "{'height_lower': {'Rb': 803.90594,\n",
      "                  'p': 1.107099,\n",
      "                  'q': 2.859784,\n",
      "                  'z0': 14.227028},\n",
      " 'height_upper': {'Rb': 108.607483,\n",
      "                  'p': 1.65208,\n",
      "                  'q': 0.550336,\n",
      "                  'z0': 52.680114},\n",
      " 'intensity': {'I0': 0.10439999999999999,\n",
      "               'Rout': 717.971915,\n",
      "               'p': -2.659016,\n",
      "               'q': 2.156254},\n",
      " 'lineslope': {'Ls': 1.676401, 'p': 0.314061},\n",
      " 'linewidth': {'L0': 0.316459, 'p': -0.288951, 'q': -0.355926},\n",
      " 'orientation': {'PA': 1.010296,\n",
      "                 'incl': -0.672928,\n",
      "                 'xc': -0.91338,\n",
      "                 'yc': -1.826827},\n",
      " 'velocity': {'Mstar': 1.973085, 'vel_sign': -1.0, 'vsys': 5.099463}}\n",
      "\n",
      "*====================================================================================================*\n",
      "*====================================================================================================*\n",
      "Computing disc upper and lower surface coordinates, projected on the sky plane...\n",
      "Using height and orientation parameters from prototype model:\n",
      "\n",
      "{'height_lower': {'Rb': 803.90594,\n",
      "                  'p': 1.107099,\n",
      "                  'q': 2.859784,\n",
      "                  'z0': 14.227028},\n",
      " 'height_upper': {'Rb': 108.607483,\n",
      "                  'p': 1.65208,\n",
      "                  'q': 0.550336,\n",
      "                  'z0': 52.680114},\n",
      " 'orientation': {'PA': 1.010296,\n",
      "                 'incl': -0.672928,\n",
      "                 'xc': -0.91338,\n",
      "                 'yc': -1.826827}}\n",
      "Saving projected R,phi,z disc coordinates for upper emission surface into .npy binaries...\n",
      "Saving projected R,phi,z disc coordinates for lower emission surface into .npy binaries...\n",
      "*====================================================================================================*\n",
      "*====================================================================================================*\n",
      "Running prototype model with the following parameters:\n",
      "\n",
      "{'height_lower': {'Rb': 803.90594,\n",
      "                  'p': 1.107099,\n",
      "                  'q': 2.859784,\n",
      "                  'z0': 14.227028},\n",
      " 'height_upper': {'Rb': 108.607483,\n",
      "                  'p': 1.65208,\n",
      "                  'q': 0.550336,\n",
      "                  'z0': 52.680114},\n",
      " 'intensity': {'I0': 0.10439999999999999,\n",
      "               'Rout': 717.971915,\n",
      "               'p': -2.659016,\n",
      "               'q': 2.156254},\n",
      " 'lineslope': {'Ls': 1.676401, 'p': 0.314061},\n",
      " 'linewidth': {'L0': 0.316459, 'p': -0.288951, 'q': -0.355926},\n",
      " 'orientation': {'PA': 1.010296,\n",
      "                 'incl': -0.672928,\n",
      "                 'xc': -0.91338,\n",
      "                 'yc': -1.826827},\n",
      " 'velocity': {'Mstar': 1.973085, 'vel_sign': -1.0, 'vsys': 5.099463}}\n",
      "\n",
      "*====================================================================================================*\n",
      "*====================================================================================================*\n",
      "Computing disc upper and lower surface coordinates, projected on the sky plane...\n",
      "Using height and orientation parameters from prototype model:\n",
      "\n",
      "{'height_lower': {'Rb': 803.90594,\n",
      "                  'p': 1.107099,\n",
      "                  'q': 2.859784,\n",
      "                  'z0': 14.227028},\n",
      " 'height_upper': {'Rb': 108.607483,\n",
      "                  'p': 1.65208,\n",
      "                  'q': 0.550336,\n",
      "                  'z0': 52.680114},\n",
      " 'orientation': {'PA': 1.010296,\n",
      "                 'incl': -0.672928,\n",
      "                 'xc': -0.91338,\n",
      "                 'yc': -1.826827}}\n",
      "Saving projected R,phi,z disc coordinates for upper emission surface into .npy binaries...\n",
      "Saving projected R,phi,z disc coordinates for lower emission surface into .npy binaries...\n",
      "*====================================================================================================*\n",
      "*====================================================================================================*\n",
      "Running prototype model with the following parameters:\n",
      "\n",
      "{'height_lower': {'Rb': 803.90594,\n",
      "                  'p': 1.107099,\n",
      "                  'q': 2.859784,\n",
      "                  'z0': 14.227028},\n",
      " 'height_upper': {'Rb': 108.607483,\n",
      "                  'p': 1.65208,\n",
      "                  'q': 0.550336,\n",
      "                  'z0': 52.680114},\n",
      " 'intensity': {'I0': 0.10439999999999999,\n",
      "               'Rout': 717.971915,\n",
      "               'p': -2.659016,\n",
      "               'q': 2.156254},\n",
      " 'lineslope': {'Ls': 1.676401, 'p': 0.314061},\n",
      " 'linewidth': {'L0': 0.316459, 'p': -0.288951, 'q': -0.355926},\n",
      " 'orientation': {'PA': 1.010296,\n",
      "                 'incl': -0.672928,\n",
      "                 'xc': -0.91338,\n",
      "                 'yc': -1.826827},\n",
      " 'velocity': {'Mstar': 1.973085, 'vel_sign': -1.0, 'vsys': 5.099463}}\n",
      "\n",
      "*====================================================================================================*\n",
      "*====================================================================================================*\n",
      "Computing disc upper and lower surface coordinates, projected on the sky plane...\n",
      "Using height and orientation parameters from prototype model:\n",
      "\n",
      "{'height_lower': {'Rb': 803.90594,\n",
      "                  'p': 1.107099,\n",
      "                  'q': 2.859784,\n",
      "                  'z0': 14.227028},\n",
      " 'height_upper': {'Rb': 108.607483,\n",
      "                  'p': 1.65208,\n",
      "                  'q': 0.550336,\n",
      "                  'z0': 52.680114},\n",
      " 'orientation': {'PA': 1.010296,\n",
      "                 'incl': -0.672928,\n",
      "                 'xc': -0.91338,\n",
      "                 'yc': -1.826827}}\n",
      "Saving projected R,phi,z disc coordinates for upper emission surface into .npy binaries...\n",
      "Saving projected R,phi,z disc coordinates for lower emission surface into .npy binaries...\n",
      "*====================================================================================================*\n",
      "*====================================================================================================*\n",
      "Running prototype model with the following parameters:\n",
      "\n",
      "{'height_lower': {'Rb': 803.90594,\n",
      "                  'p': 1.107099,\n",
      "                  'q': 2.859784,\n",
      "                  'z0': 14.227028},\n",
      " 'height_upper': {'Rb': 108.607483,\n",
      "                  'p': 1.65208,\n",
      "                  'q': 0.550336,\n",
      "                  'z0': 52.680114},\n",
      " 'intensity': {'I0': 0.10439999999999999,\n",
      "               'Rout': 717.971915,\n",
      "               'p': -2.659016,\n",
      "               'q': 2.156254},\n",
      " 'lineslope': {'Ls': 1.676401, 'p': 0.314061},\n",
      " 'linewidth': {'L0': 0.316459, 'p': -0.288951, 'q': -0.355926},\n",
      " 'orientation': {'PA': 1.010296,\n",
      "                 'incl': -0.672928,\n",
      "                 'xc': -0.91338,\n",
      "                 'yc': -1.826827},\n",
      " 'velocity': {'Mstar': 1.973085, 'vel_sign': -1.0, 'vsys': 5.099463}}\n",
      "\n",
      "*====================================================================================================*\n",
      "*====================================================================================================*\n",
      "Computing disc upper and lower surface coordinates, projected on the sky plane...\n",
      "Using height and orientation parameters from prototype model:\n",
      "\n",
      "{'height_lower': {'Rb': 803.90594,\n",
      "                  'p': 1.107099,\n",
      "                  'q': 2.859784,\n",
      "                  'z0': 14.227028},\n",
      " 'height_upper': {'Rb': 108.607483,\n",
      "                  'p': 1.65208,\n",
      "                  'q': 0.550336,\n",
      "                  'z0': 52.680114},\n",
      " 'orientation': {'PA': 1.010296,\n",
      "                 'incl': -0.672928,\n",
      "                 'xc': -0.91338,\n",
      "                 'yc': -1.826827}}\n",
      "Saving projected R,phi,z disc coordinates for upper emission surface into .npy binaries...\n",
      "Saving projected R,phi,z disc coordinates for lower emission surface into .npy binaries...\n",
      "*====================================================================================================*\n",
      "13.1 s ± 419 ms per loop (mean ± std. dev. of 7 runs, 1 loop each)\n"
     ]
    }
   ],
   "source": [
    "%%timeit\n",
    "#**************************\n",
    "#MAKE MODEL (2D ATTRIBUTES)\n",
    "#**************************\n",
    "#Return model cube and computes disc coordinates projected on the sky\n",
    "if meta['mol'] in ['12co', '13co'] and pix_downsamp>1.01*model.beam_size.value:\n",
    "    modelcube = model.make_model(make_convolve=False) \n",
    "else:\n",
    "    modelcube = model.make_model(make_convolve=True) \n",
    "\n",
    "modelcube.filename = 'cube_model_%s.fits'%tag\n",
    "\n",
    "modelcube.convert_to_tb(writefits=False)"
   ]
  },
  {
   "cell_type": "markdown",
   "metadata": {},
   "source": [
    "# find a way to change the v field of the model"
   ]
  },
  {
   "cell_type": "code",
   "execution_count": 18,
   "metadata": {},
   "outputs": [
    {
     "name": "stdout",
     "output_type": "stream",
     "text": [
      "Setting velocity function to <bound method Emulator.emulate_v3d of <discminer.emulator.Emulator object at 0x7f16ee924c70>>\n"
     ]
    }
   ],
   "source": [
    "from discminer import emulator\n",
    "emu = emulator.Emulator()\n",
    "model.velocity_func = emu.emulate_v3d"
   ]
  },
  {
   "cell_type": "code",
   "execution_count": 40,
   "metadata": {},
   "outputs": [],
   "source": [
    "emu_params = {\n",
    "    'alpha': 1e-3,\n",
    "    'h': 0.05,\n",
    "    'planetMass': 1e-2,\n",
    "    'sigmaSlope': 1,\n",
    "    'flaringIndex': 0.25,\n",
    "    'R_p': 150*ucf.au,\n",
    "    'phi_p':np.pi/4,\n",
    "    'extrap_vfunc': model.keplerian\n",
    "}"
   ]
  },
  {
   "cell_type": "code",
   "execution_count": 41,
   "metadata": {},
   "outputs": [],
   "source": [
    "model.params['velocity'].update(emu_params)"
   ]
  },
  {
   "cell_type": "code",
   "execution_count": 42,
   "metadata": {},
   "outputs": [],
   "source": [
    "model.params['orientation']['incl'] = -45 "
   ]
  },
  {
   "cell_type": "code",
   "execution_count": 43,
   "metadata": {},
   "outputs": [],
   "source": [
    "#model.params['velocity']['phi_p'] = 45"
   ]
  },
  {
   "cell_type": "code",
   "execution_count": 44,
   "metadata": {},
   "outputs": [
    {
     "data": {
      "text/plain": [
       "{'velocity': {'Mstar': 1.973085,\n",
       "  'vsys': 5.099463,\n",
       "  'vel_sign': -1.0,\n",
       "  'alpha': 0.001,\n",
       "  'h': 0.05,\n",
       "  'planetMass': 0.01,\n",
       "  'sigmaSlope': 1,\n",
       "  'flaringIndex': 0.25,\n",
       "  'R_p': 22439680605000.0,\n",
       "  'phi_p': 0.7853981633974483,\n",
       "  'extrap_vfunc': <function discminer.disc2d.Velocity.keplerian(coord, Mstar=1.0, vel_sign=1, vsys=0)>},\n",
       " 'orientation': {'incl': -45, 'PA': 1.010296, 'xc': -0.91338, 'yc': -1.826827},\n",
       " 'intensity': {'I0': 0.10439999999999999,\n",
       "  'p': -2.659016,\n",
       "  'q': 2.156254,\n",
       "  'Rout': 717.971915},\n",
       " 'linewidth': {'L0': 0.316459, 'p': -0.288951, 'q': -0.355926},\n",
       " 'lineslope': {'Ls': 1.676401, 'p': 0.314061},\n",
       " 'height_upper': {'z0': 52.680114,\n",
       "  'p': 1.65208,\n",
       "  'Rb': 108.607483,\n",
       "  'q': 0.550336},\n",
       " 'height_lower': {'z0': 14.227028,\n",
       "  'p': 1.107099,\n",
       "  'Rb': 803.90594,\n",
       "  'q': 2.859784},\n",
       " 'phi_p': 45}"
      ]
     },
     "execution_count": 44,
     "metadata": {},
     "output_type": "execute_result"
    }
   ],
   "source": [
    "model.params"
   ]
  },
  {
   "cell_type": "code",
   "execution_count": 45,
   "metadata": {},
   "outputs": [
    {
     "name": "stdout",
     "output_type": "stream",
     "text": [
      "*====================================================================================================*\n",
      "Running prototype model with the following parameters:\n",
      "\n",
      "{'height_lower': {'Rb': 803.90594,\n",
      "                  'p': 1.107099,\n",
      "                  'q': 2.859784,\n",
      "                  'z0': 14.227028},\n",
      " 'height_upper': {'Rb': 108.607483,\n",
      "                  'p': 1.65208,\n",
      "                  'q': 0.550336,\n",
      "                  'z0': 52.680114},\n",
      " 'intensity': {'I0': 0.10439999999999999,\n",
      "               'Rout': 717.971915,\n",
      "               'p': -2.659016,\n",
      "               'q': 2.156254},\n",
      " 'lineslope': {'Ls': 1.676401, 'p': 0.314061},\n",
      " 'linewidth': {'L0': 0.316459, 'p': -0.288951, 'q': -0.355926},\n",
      " 'orientation': {'PA': 1.010296, 'incl': -45, 'xc': -0.91338, 'yc': -1.826827},\n",
      " 'phi_p': 45,\n",
      " 'velocity': {'Mstar': 1.973085,\n",
      "              'R_p': 22439680605000.0,\n",
      "              'alpha': 0.001,\n",
      "              'extrap_vfunc': <function Velocity.keplerian at 0x7f177cd3bd90>,\n",
      "              'flaringIndex': 0.25,\n",
      "              'h': 0.05,\n",
      "              'phi_p': 0.7853981633974483,\n",
      "              'planetMass': 0.01,\n",
      "              'sigmaSlope': 1,\n",
      "              'vel_sign': -1.0,\n",
      "              'vsys': 5.099463}}\n",
      "\n",
      "*====================================================================================================*\n",
      "torch.Size([1, 3, 128, 128])\n",
      "torch.Size([1, 4])\n",
      "[1.81648282e+14 1.80964115e+14 1.80282564e+14 ... 1.80282564e+14\n",
      " 1.80964115e+14 1.81648282e+14]\n",
      "torch.Size([1, 3, 128, 128])\n",
      "torch.Size([1, 4])\n",
      "[1.81648282e+14 1.80964115e+14 1.80282564e+14 ... 1.80282564e+14\n",
      " 1.80964115e+14 1.81648282e+14]\n",
      "*====================================================================================================*\n",
      "Computing disc upper and lower surface coordinates, projected on the sky plane...\n",
      "Using height and orientation parameters from prototype model:\n",
      "\n",
      "{'height_lower': {'Rb': 803.90594,\n",
      "                  'p': 1.107099,\n",
      "                  'q': 2.859784,\n",
      "                  'z0': 14.227028},\n",
      " 'height_upper': {'Rb': 108.607483,\n",
      "                  'p': 1.65208,\n",
      "                  'q': 0.550336,\n",
      "                  'z0': 52.680114},\n",
      " 'orientation': {'PA': 1.010296, 'incl': -45, 'xc': -0.91338, 'yc': -1.826827}}\n",
      "Saving projected R,phi,z disc coordinates for upper emission surface into .npy binaries...\n",
      "Saving projected R,phi,z disc coordinates for lower emission surface into .npy binaries...\n",
      "*====================================================================================================*\n"
     ]
    }
   ],
   "source": [
    "#%%timeit\n",
    "#**************************\n",
    "#MAKE MODEL (2D ATTRIBUTES)\n",
    "#**************************\n",
    "#Return model cube and computes disc coordinates projected on the sky\n",
    "if meta['mol'] in ['12co', '13co'] and pix_downsamp>1.01*model.beam_size.value:\n",
    "    modelcube = model.make_model(make_convolve=False) \n",
    "else:\n",
    "    modelcube = model.make_model(make_convolve=True) \n",
    "\n",
    "modelcube.filename = 'cube_model_%s.fits'%tag\n",
    "\n",
    "modelcube.convert_to_tb(writefits=True)"
   ]
  },
  {
   "cell_type": "code",
   "execution_count": 72,
   "metadata": {},
   "outputs": [
    {
     "data": {
      "text/plain": [
       "(-1.0, 1.0, -1.0, 1.0)"
      ]
     },
     "execution_count": 72,
     "metadata": {},
     "output_type": "execute_result"
    },
    {
     "data": {
      "image/png": "[encoded data removed]",
      "text/plain": [
       "<Figure size 216x216 with 1 Axes>"
      ]
     },
     "metadata": {
      "needs_background": "light"
     },
     "output_type": "display_data"
    }
   ],
   "source": [
    "import matplotlib.pyplot as plt\n",
    "nx = np.linspace(-3,3,250)\n",
    "plt.pcolormesh(nx,nx,modelcube.data[56], cmap='inferno')\n",
    "plt.xlim(-1.5,1.5)\n",
    "plt.ylim(-1,1)\n",
    "plt.gcf().set_size_inches(3,3)\n",
    "plt.axis('off')"
   ]
  },
  {
   "cell_type": "code",
   "execution_count": 53,
   "metadata": {},
   "outputs": [
    {
     "data": {
      "text/plain": [
       "(133, 250, 250)"
      ]
     },
     "execution_count": 53,
     "metadata": {},
     "output_type": "execute_result"
    }
   ],
   "source": [
    "\n",
    "modelcube.data.shape"
   ]
  },
  {
   "cell_type": "code",
   "execution_count": 13,
   "metadata": {},
   "outputs": [],
   "source": [
    "from autograd import grad\n",
    "import autograd.numpy as npa\n",
    "\n",
    "def sum(data):\n",
    "    return npa.mean(data)"
   ]
  },
  {
   "cell_type": "code",
   "execution_count": null,
   "metadata": {},
   "outputs": [],
   "source": [
    "trg = grad(sum)"
   ]
  },
  {
   "cell_type": "code",
   "execution_count": null,
   "metadata": {},
   "outputs": [],
   "source": [
    "trg(modelcube.data)"
   ]
  },
  {
   "cell_type": "code",
   "execution_count": null,
   "metadata": {},
   "outputs": [],
   "source": [
    "import matplotlib.pyplot as plt\n",
    "plt.imshow(modelcube.data[58])\n",
    "plt.colorbar()\n",
    "plt.show()"
   ]
  },
  {
   "cell_type": "code",
   "execution_count": null,
   "metadata": {},
   "outputs": [],
   "source": [
    "model.velocity_func = model.keplerian_vertical_selfgravity_pressure"
   ]
  },
  {
   "cell_type": "code",
   "execution_count": null,
   "metadata": {},
   "outputs": [],
   "source": [
    "modelcube2 = model.make_model()\n",
    "modelcube2.convert_to_tb()"
   ]
  },
  {
   "cell_type": "code",
   "execution_count": null,
   "metadata": {},
   "outputs": [],
   "source": [
    "res = modelcube2.data-modelcube.data"
   ]
  },
  {
   "cell_type": "markdown",
   "metadata": {},
   "source": [
    "# Testing emulator"
   ]
  },
  {
   "cell_type": "code",
   "execution_count": 2,
   "metadata": {},
   "outputs": [
    {
     "data": {
      "text/plain": [
       "array([ 3.        ,  2.95275591,  2.90551181,  2.85826772,  2.81102362,\n",
       "        2.76377953,  2.71653543,  2.66929134,  2.62204724,  2.57480315,\n",
       "        2.52755906,  2.48031496,  2.43307087,  2.38582677,  2.33858268,\n",
       "        2.29133858,  2.24409449,  2.19685039,  2.1496063 ,  2.1023622 ,\n",
       "        2.05511811,  2.00787402,  1.96062992,  1.91338583,  1.86614173,\n",
       "        1.81889764,  1.77165354,  1.72440945,  1.67716535,  1.62992126,\n",
       "        1.58267717,  1.53543307,  1.48818898,  1.44094488,  1.39370079,\n",
       "        1.34645669,  1.2992126 ,  1.2519685 ,  1.20472441,  1.15748031,\n",
       "        1.11023622,  1.06299213,  1.01574803,  0.96850394,  0.92125984,\n",
       "        0.87401575,  0.82677165,  0.77952756,  0.73228346,  0.68503937,\n",
       "        0.63779528,  0.59055118,  0.54330709,  0.49606299,  0.4488189 ,\n",
       "        0.4015748 ,  0.35433071,  0.30708661,  0.25984252,  0.21259843,\n",
       "        0.16535433,  0.11811024,  0.07086614,  0.02362205, -0.02362205,\n",
       "       -0.07086614, -0.11811024, -0.16535433, -0.21259843, -0.25984252,\n",
       "       -0.30708661, -0.35433071, -0.4015748 , -0.4488189 , -0.49606299,\n",
       "       -0.54330709, -0.59055118, -0.63779528, -0.68503937, -0.73228346,\n",
       "       -0.77952756, -0.82677165, -0.87401575, -0.92125984, -0.96850394,\n",
       "       -1.01574803, -1.06299213, -1.11023622, -1.15748031, -1.20472441,\n",
       "       -1.2519685 , -1.2992126 , -1.34645669, -1.39370079, -1.44094488,\n",
       "       -1.48818898, -1.53543307, -1.58267717, -1.62992126, -1.67716535,\n",
       "       -1.72440945, -1.77165354, -1.81889764, -1.86614173, -1.91338583,\n",
       "       -1.96062992, -2.00787402, -2.05511811, -2.1023622 , -2.1496063 ,\n",
       "       -2.19685039, -2.24409449, -2.29133858, -2.33858268, -2.38582677,\n",
       "       -2.43307087, -2.48031496, -2.52755906, -2.57480315, -2.62204724,\n",
       "       -2.66929134, -2.71653543, -2.76377953, -2.81102362, -2.85826772,\n",
       "       -2.90551181, -2.95275591, -3.        ])"
      ]
     },
     "execution_count": 2,
     "metadata": {},
     "output_type": "execute_result"
    }
   ],
   "source": []
  },
  {
   "cell_type": "code",
   "execution_count": null,
   "metadata": {},
   "outputs": [],
   "source": [
    "import sys\n",
    "sys.path.append('../discminer/')\n",
    "import emulator\n",
    "import units as u\n",
    "import units as sfu\n",
    "import numpy as np\n",
    "\n",
    "def hypot_func(x,y):\n",
    "    return np.sqrt(x**2+y**2)\n",
    "\n",
    "G = 6.67384e-11 \n",
    "\n",
    "@staticmethod\n",
    "def keplerian(coord, Mstar=1.0, vel_sign=1, vsys=0):\n",
    "    Mstar *= sfu.MSun\n",
    "    if 'R' not in coord.keys(): R = hypot_func(coord['x'], coord['y'])\n",
    "    else: R = coord['R'] \n",
    "    return vel_sign*np.sqrt(G*Mstar/R) * 1e-3"
   ]
  },
  {
   "cell_type": "code",
   "execution_count": null,
   "metadata": {},
   "outputs": [],
   "source": [
    "emu = emulator.Emulator()"
   ]
  },
  {
   "cell_type": "code",
   "execution_count": null,
   "metadata": {},
   "outputs": [],
   "source": [
    "params = {\n",
    "    'alpha': 1e-3,\n",
    "    'h': 0.05,\n",
    "    'planetMass': 1e-3,\n",
    "    'sigmaSlope': 1,\n",
    "    'flaringIndex': 0.25,\n",
    "    'R_p': 50*u.au,\n",
    "    'phi_p':0,\n",
    "    'extrap_vfunc': keplerian\n",
    "}\n",
    "\n",
    "x = y = np.linspace(-100,100,500)*u.au\n",
    "XX, YY = np.meshgrid(x, y)\n",
    "coord = {\n",
    "    'x': XX,\n",
    "    'y': YY\n",
    "}"
   ]
  },
  {
   "cell_type": "code",
   "execution_count": null,
   "metadata": {},
   "outputs": [],
   "source": [
    "emulation = emu.emulate_v3d(coord, **params)"
   ]
  },
  {
   "cell_type": "code",
   "execution_count": null,
   "metadata": {},
   "outputs": [],
   "source": [
    "emulation.shape"
   ]
  },
  {
   "cell_type": "code",
   "execution_count": null,
   "metadata": {},
   "outputs": [],
   "source": [
    "import matplotlib.pyplot as plt"
   ]
  },
  {
   "cell_type": "code",
   "execution_count": null,
   "metadata": {},
   "outputs": [],
   "source": [
    "plt.imshow(emulation[:,:,2])"
   ]
  },
  {
   "cell_type": "code",
   "execution_count": 14,
   "metadata": {},
   "outputs": [],
   "source": [
    "es = np.expand_dims(np.ones((10,10)), axis=0).shape"
   ]
  },
  {
   "cell_type": "code",
   "execution_count": 15,
   "metadata": {},
   "outputs": [
    {
     "data": {
      "text/plain": [
       "(1, 10, 10)"
      ]
     },
     "execution_count": 15,
     "metadata": {},
     "output_type": "execute_result"
    }
   ],
   "source": [
    "es"
   ]
  },
  {
   "cell_type": "code",
   "execution_count": null,
   "metadata": {},
   "outputs": [],
   "source": []
  }
 ],
 "metadata": {
  "kernelspec": {
   "display_name": "Python 3",
   "language": "python",
   "name": "python3"
  },
  "language_info": {
   "codemirror_mode": {
    "name": "ipython",
    "version": 3
   },
   "file_extension": ".py",
   "mimetype": "text/x-python",
   "name": "python",
   "nbconvert_exporter": "python",
   "pygments_lexer": "ipython3",
   "version": "3.10.12"
  }
 },
 "nbformat": 4,
 "nbformat_minor": 2
}
