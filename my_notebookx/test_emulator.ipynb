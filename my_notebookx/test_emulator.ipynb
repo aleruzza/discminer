{
 "cells": [
  {
   "cell_type": "code",
   "execution_count": 24,
   "metadata": {},
   "outputs": [],
   "source": [
    "from discminer.emulator import Emulator\n",
    "import discminer.emulator as emulib\n",
    "import torch\n",
    "import numpy as np"
   ]
  },
  {
   "cell_type": "code",
   "execution_count": 25,
   "metadata": {},
   "outputs": [],
   "source": [
    "emu = Emulator(['../../../SCIENCE/UnetEmu/outputs/vr_256/model__epoch_1200_test_vr_256.pth', '../../../SCIENCE/UnetEmu/outputs/vr_256/model__epoch_1200_test_vr_256.pth', '../../../SCIENCE/UnetEmu/outputs/vr_256/model__epoch_1200_test_vr_256.pth'],\n",
    "               ['../../../SCIENCE/UnetEmu/outputs/vr_256/params.py', '../../../SCIENCE/UnetEmu/outputs/vr_256/params.py', '../../../SCIENCE/UnetEmu/outputs/vr_256/params.py'], ict_gen=emulib.generate_ict_128x128_disc_tri_slopes)"
   ]
  },
  {
   "cell_type": "code",
   "execution_count": 26,
   "metadata": {},
   "outputs": [],
   "source": [
    "class keplerian_emu(emulib.BaseEmulator):\n",
    "    def __init__(self, image_size, device='cpu'):\n",
    "        self.image_size = image_size\n",
    "        self.device = device\n",
    "        xy = np.linspace(-3,3, self.image_size)\n",
    "        xx, yy = np.meshgrid(xy,xy)\n",
    "        rr = np.sqrt(xx**2+yy**2)\n",
    "        self.vaz = rr**-0.5\n",
    "    \n",
    "    def emulate(self, ic, labels):\n",
    "        labels = torch.tensor(labels, dtype=torch.float32, device=self.device)\n",
    "    \n",
    "        return torch.tensor(self.vaz, device='cpu').reshape(1,1,self.image_size, self.image_size)\n"
   ]
  },
  {
   "cell_type": "code",
   "execution_count": 27,
   "metadata": {},
   "outputs": [],
   "source": [
    "emu.emulators[1] = keplerian_emu(256)"
   ]
  },
  {
   "cell_type": "code",
   "execution_count": 6,
   "metadata": {},
   "outputs": [
    {
     "name": "stderr",
     "output_type": "stream",
     "text": [
      "/home/aleruzza/.local/lib/python3.10/site-packages/matplotlib/projections/__init__.py:63: UserWarning: Unable to import Axes3D. This may be due to multiple versions of Matplotlib being installed (e.g. as a system package and as a pip package). As a result, the 3D projection is not available.\n",
      "  warnings.warn(\"Unable to import Axes3D. This may be due to multiple versions of \"\n"
     ]
    },
    {
     "data": {
      "text/plain": [
       "<matplotlib.image.AxesImage at 0x7fa5e721f8e0>"
      ]
     },
     "execution_count": 6,
     "metadata": {},
     "output_type": "execute_result"
    },
    {
     "data": {
      "image/png": "[encoded data removed]",
      "text/plain": [
       "<Figure size 432x288 with 1 Axes>"
      ]
     },
     "metadata": {
      "needs_background": "light"
     },
     "output_type": "display_data"
    }
   ],
   "source": [
    "#test\n",
    "import matplotlib.pyplot as plt\n",
    "res = emu.emulate(1e-3,0.1,1e-3,1,0.3)\n",
    "plt.imshow(res[0,1])"
   ]
  },
  {
   "cell_type": "markdown",
   "metadata": {},
   "source": [
    "# Discminer"
   ]
  },
  {
   "cell_type": "code",
   "execution_count": 28,
   "metadata": {},
   "outputs": [],
   "source": [
    "#loading the datacube under exam\n",
    "from discminer.core import Data\n",
    "from sys import path as syspath\n",
    "from astropy import units as u\n",
    "import json\n",
    "from discminer.mining_utils import get_noise_mask, init_data_and_model\n",
    "syspath.append('../')\n",
    "syspath.append('../_mining')"
   ]
  },
  {
   "cell_type": "code",
   "execution_count": 29,
   "metadata": {},
   "outputs": [
    {
     "name": "stdout",
     "output_type": "stream",
     "text": [
      "     _  _                        _                    \n",
      "  __| |(_) ___   ___  _ __ ___  (_) _ __    ___  _ __ \n",
      " / _` || |/ __| / __|| '_ ` _ \\ | || '_ \\  / _ \\| '__|\n",
      "| (_| || |\\__ \\| (__ | | | | | || || | | ||  __/| |   \n",
      " \\__,_||_||___/ \\___||_| |_| |_||_||_| |_| \\___||_|   \n",
      "                                                      \n",
      "\n",
      "*====================================================================================================*\n",
      "Computing grid...\n",
      "Grid maximum extent: 120689578165943.16\n",
      "Grid step (cell size): 969394202136.0896\n",
      "*====================================================================================================*\n",
      "*====================================================================================================*\n",
      "Computing grid...\n",
      "Grid maximum extent: 128444731783031.88\n",
      "Grid step (cell size): 969394202136.0896\n",
      "*====================================================================================================*\n",
      "Setting beam_info var to Beam: BMAJ=0.165413767099392 arcsec BMIN=0.12207780778406399 arcsec BPA=6.09619140625 deg\n",
      "Setting beam_kernel var to <astropy.convolution.kernels.Gaussian2DKernel object at 0x7f768db79c30>\n",
      "Available categories for prototyping: dict_keys(['velocity', 'orientation', 'intensity', 'linewidth', 'lineslope', 'height_upper', 'height_lower'])\n",
      "Using default and/or tag-based parametric forms for model...\n",
      "Setting velocity function to <function keplerian_vertical at 0x7f76993e51b0>\n",
      "Setting upper surface height function to <function z_upper_exp_tapered at 0x7f76993e52d0>\n",
      "Setting lower surface height function to <function z_lower_exp_tapered at 0x7f76993e5360>\n",
      "Setting intensity function to <function intensity_powerlaw_rout at 0x7f76993e5630>\n",
      "Setting linewidth function to <function linewidth_powerlaw at 0x7f76993e5900>\n",
      "Setting lineslope function to <function lineslope_powerlaw at 0x7f76993e5990>\n",
      "Setting line profile function to <function line_profile_bell at 0x7f76993e5a20>\n",
      "Setting composite upper+lower line profile function to <function line_uplow_mask at 0x7f76993e5b40>\n"
     ]
    }
   ],
   "source": [
    "datacube, model = init_data_and_model(Rmin=0, Rmax=1.2)"
   ]
  },
  {
   "cell_type": "code",
   "execution_count": 30,
   "metadata": {},
   "outputs": [
    {
     "name": "stdout",
     "output_type": "stream",
     "text": [
      "*====================================================================================================*\n",
      "Running prototype model with the following parameters:\n",
      "\n",
      "{'height_lower': {'Rb': 803.90594,\n",
      "                  'p': 1.107099,\n",
      "                  'q': 2.859784,\n",
      "                  'z0': 14.227028},\n",
      " 'height_upper': {'Rb': 108.607483,\n",
      "                  'p': 1.65208,\n",
      "                  'q': 0.550336,\n",
      "                  'z0': 52.680114},\n",
      " 'intensity': {'I0': 0.10439999999999999,\n",
      "               'Rout': 717.971915,\n",
      "               'p': -2.659016,\n",
      "               'q': 2.156254},\n",
      " 'lineslope': {'Ls': 1.676401, 'p': 0.314061},\n",
      " 'linewidth': {'L0': 0.316459, 'p': -0.288951, 'q': -0.355926},\n",
      " 'orientation': {'PA': 1.010296,\n",
      "                 'incl': -0.672928,\n",
      "                 'xc': -0.91338,\n",
      "                 'yc': -1.826827},\n",
      " 'velocity': {'Mstar': 1.973085, 'vel_sign': -1.0, 'vsys': 5.099463}}\n",
      "\n",
      "*====================================================================================================*\n",
      "*====================================================================================================*\n",
      "Computing disc upper and lower surface coordinates, projected on the sky plane...\n",
      "Using height and orientation parameters from prototype model:\n",
      "\n",
      "{'height_lower': {'Rb': 803.90594,\n",
      "                  'p': 1.107099,\n",
      "                  'q': 2.859784,\n",
      "                  'z0': 14.227028},\n",
      " 'height_upper': {'Rb': 108.607483,\n",
      "                  'p': 1.65208,\n",
      "                  'q': 0.550336,\n",
      "                  'z0': 52.680114},\n",
      " 'orientation': {'PA': 1.010296,\n",
      "                 'incl': -0.672928,\n",
      "                 'xc': -0.91338,\n",
      "                 'yc': -1.826827}}\n",
      "Saving projected R,phi,z disc coordinates for upper emission surface into .npy binaries...\n",
      "Saving projected R,phi,z disc coordinates for lower emission surface into .npy binaries...\n",
      "*====================================================================================================*\n"
     ]
    }
   ],
   "source": [
    "modelcube = model.make_model(make_convolve=True)"
   ]
  },
  {
   "cell_type": "code",
   "execution_count": 31,
   "metadata": {},
   "outputs": [
    {
     "data": {
      "text/plain": [
       "<matplotlib.image.AxesImage at 0x7f768db41810>"
      ]
     },
     "execution_count": 31,
     "metadata": {},
     "output_type": "execute_result"
    },
    {
     "data": {
      "image/png": "[encoded data removed]",
      "text/plain": [
       "<Figure size 432x288 with 1 Axes>"
      ]
     },
     "metadata": {
      "needs_background": "light"
     },
     "output_type": "display_data"
    }
   ],
   "source": [
    "import matplotlib.pyplot as plt\n",
    "plt.imshow(modelcube.data[65])"
   ]
  },
  {
   "cell_type": "code",
   "execution_count": 33,
   "metadata": {},
   "outputs": [],
   "source": [
    "from discminer import units as ucf"
   ]
  },
  {
   "cell_type": "code",
   "execution_count": 45,
   "metadata": {},
   "outputs": [],
   "source": [
    "emu_params = {\n",
    "    'alpha': 1e-3,\n",
    "    'h': 0.05,\n",
    "    'planetMass': 1e-2,\n",
    "    'sigmaSlope': 1,\n",
    "    'flaringIndex': 0.25,\n",
    "    'R_p': 150*ucf.au,\n",
    "    'phi_p':-np.pi/4,\n",
    "    'extrap_vfunc': model.keplerian\n",
    "}"
   ]
  },
  {
   "cell_type": "code",
   "execution_count": 46,
   "metadata": {},
   "outputs": [
    {
     "name": "stdout",
     "output_type": "stream",
     "text": [
      "Setting velocity function to <bound method Emulator.emulate_v3d of <discminer.emulator.Emulator object at 0x7f768dcfc7f0>>\n"
     ]
    }
   ],
   "source": [
    "model.velocity_func = emu.emulate_v3d\n",
    "model.params['velocity'].update(emu_params)\n",
    "model.params['orientation']['incl'] = -45 "
   ]
  },
  {
   "cell_type": "code",
   "execution_count": 50,
   "metadata": {},
   "outputs": [
    {
     "name": "stdout",
     "output_type": "stream",
     "text": [
      "*====================================================================================================*\n",
      "Running prototype model with the following parameters:\n",
      "\n",
      "{'height_lower': {'Rb': 803.90594,\n",
      "                  'p': 1.107099,\n",
      "                  'q': 2.859784,\n",
      "                  'z0': 14.227028},\n",
      " 'height_upper': {'Rb': 108.607483,\n",
      "                  'p': 1.65208,\n",
      "                  'q': 0.550336,\n",
      "                  'z0': 52.680114},\n",
      " 'intensity': {'I0': 0.10439999999999999,\n",
      "               'Rout': 717.971915,\n",
      "               'p': -2.659016,\n",
      "               'q': 2.156254},\n",
      " 'lineslope': {'Ls': 1.676401, 'p': 0.314061},\n",
      " 'linewidth': {'L0': 0.316459, 'p': -0.288951, 'q': -0.355926},\n",
      " 'orientation': {'PA': 1.010296, 'incl': -45, 'xc': -0.91338, 'yc': -1.826827},\n",
      " 'velocity': {'Mstar': 1.973085,\n",
      "              'R_p': 22439680605000.0,\n",
      "              'alpha': 0.001,\n",
      "              'extrap_vfunc': <function Velocity.keplerian at 0x7f76993b6dd0>,\n",
      "              'flaringIndex': 0.25,\n",
      "              'h': 0.05,\n",
      "              'phi_p': -0.7853981633974483,\n",
      "              'planetMass': 0.01,\n",
      "              'sigmaSlope': 1,\n",
      "              'vel_sign': -1.0,\n",
      "              'vsys': 5.099463}}\n",
      "\n",
      "*====================================================================================================*\n",
      "[1.81648282e+14 1.80964115e+14 1.80282564e+14 ... 1.80282564e+14\n",
      " 1.80964115e+14 1.81648282e+14]\n",
      "[1.81648282e+14 1.80964115e+14 1.80282564e+14 ... 1.80282564e+14\n",
      " 1.80964115e+14 1.81648282e+14]\n",
      "*====================================================================================================*\n",
      "Computing disc upper and lower surface coordinates, projected on the sky plane...\n",
      "Using height and orientation parameters from prototype model:\n",
      "\n",
      "{'height_lower': {'Rb': 803.90594,\n",
      "                  'p': 1.107099,\n",
      "                  'q': 2.859784,\n",
      "                  'z0': 14.227028},\n",
      " 'height_upper': {'Rb': 108.607483,\n",
      "                  'p': 1.65208,\n",
      "                  'q': 0.550336,\n",
      "                  'z0': 52.680114},\n",
      " 'orientation': {'PA': 1.010296, 'incl': -45, 'xc': -0.91338, 'yc': -1.826827}}\n",
      "Saving projected R,phi,z disc coordinates for upper emission surface into .npy binaries...\n",
      "Saving projected R,phi,z disc coordinates for lower emission surface into .npy binaries...\n",
      "*====================================================================================================*\n"
     ]
    }
   ],
   "source": [
    "modelcube2 = model.make_model(make_convolve=False)"
   ]
  },
  {
   "cell_type": "code",
   "execution_count": 49,
   "metadata": {},
   "outputs": [
    {
     "data": {
      "text/plain": [
       "<matplotlib.image.AxesImage at 0x7f768d9e1540>"
      ]
     },
     "execution_count": 49,
     "metadata": {},
     "output_type": "execute_result"
    },
    {
     "data": {
      "image/png": "[encoded data removed]",
      "text/plain": [
       "<Figure size 432x288 with 1 Axes>"
      ]
     },
     "metadata": {
      "needs_background": "light"
     },
     "output_type": "display_data"
    }
   ],
   "source": [
    "plt.imshow(modelcube2.data[64])"
   ]
  },
  {
   "cell_type": "markdown",
   "metadata": {},
   "source": []
  }
 ],
 "metadata": {
  "kernelspec": {
   "display_name": "Python 3",
   "language": "python",
   "name": "python3"
  },
  "language_info": {
   "codemirror_mode": {
    "name": "ipython",
    "version": 3
   },
   "file_extension": ".py",
   "mimetype": "text/x-python",
   "name": "python",
   "nbconvert_exporter": "python",
   "pygments_lexer": "ipython3",
   "version": "3.10.12"
  }
 },
 "nbformat": 4,
 "nbformat_minor": 2
}
